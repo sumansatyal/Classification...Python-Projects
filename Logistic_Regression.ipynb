{
  "nbformat": 4,
  "nbformat_minor": 0,
  "metadata": {
    "colab": {
      "provenance": []
    },
    "kernelspec": {
      "name": "python3",
      "display_name": "Python 3"
    },
    "language_info": {
      "name": "python"
    }
  },
  "cells": [
    {
      "cell_type": "markdown",
      "source": [
        "# Logistic Regression\n",
        "\n",
        "**Logistic Regression** is a statistical method used for binary classification. This means it is used to predict the probability that a given input belongs to one of two possible classes. Unlike linear regression, which predicts a continuous outcome, logistic regression predicts a binary outcome (0 or 1, true or false, yes or no).\n",
        "\n",
        "Here are the key concepts and steps involved in logistic regression:\n",
        "\n",
        "### 1. **Logistic Function (Sigmoid Function)**\n",
        "Logistic regression uses the logistic function, also known as the sigmoid function, to model the probability of the default class. The logistic function is defined as:\n",
        "\n",
        "$\\sigma(z) = \\frac{1}{1 + e^{-z}}$\n",
        "\n",
        "where $\\sigma(z)$ outputs a value between 0 and 1, which can be interpreted as a probability. The input $ z $ is a linear combination of the input features.\n",
        "\n",
        "### 2. **Linear Combination of Inputs**\n",
        "The input $z$ to the logistic function is a linear combination of the input features. It is given by:\n",
        "\n",
        "$z = \\beta_0 + \\beta_1 x_1 + \\beta_2 x_2 + \\ldots + \\beta_n x_n$\n",
        "\n",
        "where $\\beta_0$ is the intercept, $\\beta_1, \\beta_2, \\ldots, \\beta_n$ are the coefficients, and $x_1, x_2, \\ldots, x_n$ are the input features.\n",
        "\n",
        "### 3. **Logistic Regression Model**\n",
        "The logistic regression model predicts the probability $p$ that the output belongs to the positive class (usually labeled as 1). This probability is given by:\n",
        "\n",
        "$p = \\sigma(z) = \\frac{1}{1 + e^{-(\\beta_0 + \\beta_1 x_1 + \\beta_2 x_2 + \\ldots + \\beta_n x_n)}}$\n",
        "\n",
        "### 4. **Decision Boundary**\n",
        "To make a classification decision, we choose a threshold (commonly 0.5). If the predicted probability $p$ is greater than or equal to the threshold, the instance is classified as the positive class (1); otherwise, it is classified as the negative class (0).\n",
        "\n",
        "### 5. **Cost Function**\n",
        "The cost function used in logistic regression is the log-loss (also known as the binary cross-entropy). It is defined as:\n",
        "\n",
        "$J(\\beta) = -\\frac{1}{m} \\sum_{i=1}^{m} \\left[ y_i \\log(\\hat{y}_i) + (1 - y_i) \\log(1 - \\hat{y}_i) \\right]$\n",
        "\n",
        "where $m$ is the number of training examples, $y_i$ is the actual label, and $\\hat{y}_i$ is the predicted probability.\n",
        "\n",
        "### 6. **Training the Model**\n",
        "The goal of training the logistic regression model is to find the coefficients $\\beta_0, \\beta_1, \\ldots, \\beta_n$ that minimize the cost function. This is typically done using optimization algorithms such as gradient descent.\n",
        "\n",
        "### 7. **Interpretation of Coefficients**\n",
        "The coefficients $\\beta_1, \\beta_2, \\ldots, \\beta_n$ represent the log-odds change in the probability of the output being 1 for a one-unit change in the corresponding feature, holding all other features constant. Specifically:\n",
        "\n",
        "$\\text{log-odds} = \\log\\left(\\frac{p}{1-p}\\right) = \\beta_0 + \\beta_1 x_1 + \\beta_2 x_2 + \\ldots + \\beta_n x_n$\n",
        "\n",
        "### 8. **Advantages and Disadvantages**\n",
        "**Advantages:**\n",
        "- Simple to implement and interpret.\n",
        "- Can handle binary classification problems efficiently.\n",
        "- Provides probabilities for each prediction, which can be useful in some applications.\n",
        "\n",
        "**Disadvantages:**\n",
        "- Assumes a linear relationship between the input features and the log-odds of the outcome.\n",
        "- Performance can degrade with highly imbalanced datasets.\n",
        "- Not suitable for complex relationships between features and the outcome (non-linearity).\n",
        "\n",
        "### Example\n",
        "Consider a simple example where we want to predict whether a student passes or fails an exam based on their study hours:\n",
        "\n",
        "1. **Data:** (Study Hours, Pass/Fail)\n",
        "   - (5, 1)\n",
        "   - (2, 0)\n",
        "   - (8, 1)\n",
        "   - (1, 0)\n",
        "\n",
        "2. **Model:** $\\sigma(z) = \\frac{1}{1 + e^{-(\\beta_0 + \\beta_1 \\times \\text{Study Hours})}}$\n",
        "\n",
        "3. **Training:** Using the data to find the best values for $\\beta_0$ and $\\beta_1$.\n",
        "\n",
        "4. **Prediction:** For a new student who studies for 3 hours, calculate $z = \\beta_0 + \\beta_1 \\times$, then find $p = \\sigma(z)$. If $p \\geq 0.5$, predict Pass (1); otherwise, predict Fail (0).\n",
        "\n",
        "This is a basic overview of logistic regression, a powerful and widely-used technique in binary classification problems."
      ],
      "metadata": {
        "id": "MZV6wXkecfQR"
      }
    },
    {
      "cell_type": "markdown",
      "source": [
        "### Example\n",
        "\n",
        "Predicting liklihood that a person will purchase a new car based on their Age and Salary."
      ],
      "metadata": {
        "id": "C6QUXtZ_rNHg"
      }
    },
    {
      "cell_type": "code",
      "execution_count": 19,
      "metadata": {
        "id": "xNGQj7-pVqr4"
      },
      "outputs": [],
      "source": [
        "# Import necessary libraries\n",
        "\n",
        "import numpy as np\n",
        "import matplotlib.pyplot as plt\n",
        "import pandas as pd"
      ]
    },
    {
      "cell_type": "code",
      "source": [
        "# Import Data\n",
        "data = pd.read_csv('Customer_Data.csv')\n",
        "X = data.iloc[:, :-1].values\n",
        "y = data.iloc[:,-1].values"
      ],
      "metadata": {
        "id": "DAlnedgcrmsR"
      },
      "execution_count": 20,
      "outputs": []
    },
    {
      "cell_type": "markdown",
      "source": [
        "### Create the Training and Testing Set from the imported Data"
      ],
      "metadata": {
        "id": "HQk2mexNt_Rv"
      }
    },
    {
      "cell_type": "code",
      "source": [
        "from sklearn.model_selection import train_test_split\n",
        "X_train, X_test, y_train, y_test = train_test_split(X, y, test_size = 0.20, random_state= 0)\n",
        "\n",
        "# print(X_train) visualize the original data if needed"
      ],
      "metadata": {
        "id": "dFYU2pu8t-wJ"
      },
      "execution_count": 21,
      "outputs": []
    },
    {
      "cell_type": "markdown",
      "source": [
        "## Feature Scaling\n",
        "\n",
        "Feature scaling is a preprocessing step in machine learning and data analysis where the range of independent variables or features is adjusted to ensure they contribute equally to the model. It is important because many machine learning algorithms perform better or converge faster when features are on a similar scale. This is particularly crucial for algorithms that use distance metrics, such as k-nearest neighbors (KNN) and algorithms that involve gradient descent optimization, like logistic regression and neural networks.\n",
        "\n",
        "Here are the main methods of feature scaling:\n",
        "\n",
        "### 1. **Standardization (Z-score Normalization)**\n",
        "Standardization scales the features to have a mean of 0 and a standard deviation of 1. This method is particularly useful when the data has a Gaussian (bell-shaped) distribution. The formula for standardization is:\n",
        "\n",
        "$z = \\frac{x - \\mu}{\\sigma}$\n",
        "\n",
        "where:\n",
        "- $x$ is the original feature value,\n",
        "- $\\mu$ is the mean of the feature values,\n",
        "- $\\sigma$ is the standard deviation of the feature values.\n",
        "\n",
        "### 2. **Min-Max Scaling (Normalization)**\n",
        "Min-Max scaling transforms features to a fixed range, usually [0, 1]. This is done by subtracting the minimum value of the feature and dividing by the range of the feature values. The formula is:\n",
        "\n",
        "$x' = \\frac{x - \\text{min}(x)}{\\text{max}(x) - \\text{min}(x)}$\n",
        "\n",
        "where:\n",
        "- $x$ is the original feature value,\n",
        "- $\\text{min}(x)$ is the minimum value of the feature,\n",
        "- $\\text{max}(x)$ is the maximum value of the feature.\n",
        "\n",
        "### 3. **Robust Scaling**\n",
        "Robust scaling uses the median and the interquartile range (IQR) for scaling. This method is less sensitive to outliers. The formula is:\n",
        "\n",
        "$x' = \\frac{x - \\text{median}(x)}{\\text{IQR}}$\n",
        "\n",
        "where:\n",
        "- $\\text{median}(x)$ is the median of the feature values,\n",
        "- $\\text{IQR}$ is the interquartile range (the difference between the 75th and 25th percentiles).\n",
        "\n",
        "### 4. **Scaling to Unit Length**\n",
        "This method scales the feature vector to have a unit norm (often the L2 norm of 1). It is commonly used in text classification and clustering algorithms. The formula is:\n",
        "\n",
        "$x' = \\frac{x}{||x||}$\n",
        "\n",
        "where $|x|$ is the norm of the feature vector.\n",
        "\n",
        "### Why Feature Scaling is Important\n",
        "1. **Improves Model Performance**: Many machine learning algorithms, especially those that rely on gradient descent, perform better when the features are on a similar scale.\n",
        "2. **Speeds Up Convergence**: Algorithms like gradient descent converge faster when features are scaled because they provide a more spherical shape of the cost function contour.\n",
        "3. **Equal Weight**: Without scaling, features with larger ranges can dominate the learning process, leading to biased models.\n",
        "4. **Distance Metrics**: Algorithms such as KNN, SVM, and clustering algorithms (e.g., k-means) rely on distance metrics and are sensitive to the magnitude of the features."
      ],
      "metadata": {
        "id": "saNCfybfu4Zt"
      }
    },
    {
      "cell_type": "code",
      "source": [
        "from sklearn.preprocessing import StandardScaler\n",
        "sc = StandardScaler()\n",
        "X_train = sc.fit_transform(X_train)\n",
        "X_test = sc.transform(X_test)\n",
        "# print(X_train)\n",
        "# print(X_test) # Prints the data after feature scaling is applied."
      ],
      "metadata": {
        "id": "R4SWdt3tsKWg"
      },
      "execution_count": 22,
      "outputs": []
    },
    {
      "cell_type": "markdown",
      "source": [
        "## Train the Logistic Regression Model on the Training Set"
      ],
      "metadata": {
        "id": "FivuJt1S0jhP"
      }
    },
    {
      "cell_type": "code",
      "source": [
        "from sklearn.linear_model import LogisticRegression\n",
        "classifier = LogisticRegression(random_state=0)\n",
        "classifier.fit(X_train, y_train)"
      ],
      "metadata": {
        "colab": {
          "base_uri": "https://localhost:8080/",
          "height": 75
        },
        "id": "bdMk5IqVw5-s",
        "outputId": "f74ad603-4fef-42a1-a58b-1fe5cad3a37b"
      },
      "execution_count": 23,
      "outputs": [
        {
          "output_type": "execute_result",
          "data": {
            "text/plain": [
              "LogisticRegression(random_state=0)"
            ],
            "text/html": [
              "<style>#sk-container-id-3 {color: black;background-color: white;}#sk-container-id-3 pre{padding: 0;}#sk-container-id-3 div.sk-toggleable {background-color: white;}#sk-container-id-3 label.sk-toggleable__label {cursor: pointer;display: block;width: 100%;margin-bottom: 0;padding: 0.3em;box-sizing: border-box;text-align: center;}#sk-container-id-3 label.sk-toggleable__label-arrow:before {content: \"▸\";float: left;margin-right: 0.25em;color: #696969;}#sk-container-id-3 label.sk-toggleable__label-arrow:hover:before {color: black;}#sk-container-id-3 div.sk-estimator:hover label.sk-toggleable__label-arrow:before {color: black;}#sk-container-id-3 div.sk-toggleable__content {max-height: 0;max-width: 0;overflow: hidden;text-align: left;background-color: #f0f8ff;}#sk-container-id-3 div.sk-toggleable__content pre {margin: 0.2em;color: black;border-radius: 0.25em;background-color: #f0f8ff;}#sk-container-id-3 input.sk-toggleable__control:checked~div.sk-toggleable__content {max-height: 200px;max-width: 100%;overflow: auto;}#sk-container-id-3 input.sk-toggleable__control:checked~label.sk-toggleable__label-arrow:before {content: \"▾\";}#sk-container-id-3 div.sk-estimator input.sk-toggleable__control:checked~label.sk-toggleable__label {background-color: #d4ebff;}#sk-container-id-3 div.sk-label input.sk-toggleable__control:checked~label.sk-toggleable__label {background-color: #d4ebff;}#sk-container-id-3 input.sk-hidden--visually {border: 0;clip: rect(1px 1px 1px 1px);clip: rect(1px, 1px, 1px, 1px);height: 1px;margin: -1px;overflow: hidden;padding: 0;position: absolute;width: 1px;}#sk-container-id-3 div.sk-estimator {font-family: monospace;background-color: #f0f8ff;border: 1px dotted black;border-radius: 0.25em;box-sizing: border-box;margin-bottom: 0.5em;}#sk-container-id-3 div.sk-estimator:hover {background-color: #d4ebff;}#sk-container-id-3 div.sk-parallel-item::after {content: \"\";width: 100%;border-bottom: 1px solid gray;flex-grow: 1;}#sk-container-id-3 div.sk-label:hover label.sk-toggleable__label {background-color: #d4ebff;}#sk-container-id-3 div.sk-serial::before {content: \"\";position: absolute;border-left: 1px solid gray;box-sizing: border-box;top: 0;bottom: 0;left: 50%;z-index: 0;}#sk-container-id-3 div.sk-serial {display: flex;flex-direction: column;align-items: center;background-color: white;padding-right: 0.2em;padding-left: 0.2em;position: relative;}#sk-container-id-3 div.sk-item {position: relative;z-index: 1;}#sk-container-id-3 div.sk-parallel {display: flex;align-items: stretch;justify-content: center;background-color: white;position: relative;}#sk-container-id-3 div.sk-item::before, #sk-container-id-3 div.sk-parallel-item::before {content: \"\";position: absolute;border-left: 1px solid gray;box-sizing: border-box;top: 0;bottom: 0;left: 50%;z-index: -1;}#sk-container-id-3 div.sk-parallel-item {display: flex;flex-direction: column;z-index: 1;position: relative;background-color: white;}#sk-container-id-3 div.sk-parallel-item:first-child::after {align-self: flex-end;width: 50%;}#sk-container-id-3 div.sk-parallel-item:last-child::after {align-self: flex-start;width: 50%;}#sk-container-id-3 div.sk-parallel-item:only-child::after {width: 0;}#sk-container-id-3 div.sk-dashed-wrapped {border: 1px dashed gray;margin: 0 0.4em 0.5em 0.4em;box-sizing: border-box;padding-bottom: 0.4em;background-color: white;}#sk-container-id-3 div.sk-label label {font-family: monospace;font-weight: bold;display: inline-block;line-height: 1.2em;}#sk-container-id-3 div.sk-label-container {text-align: center;}#sk-container-id-3 div.sk-container {/* jupyter's `normalize.less` sets `[hidden] { display: none; }` but bootstrap.min.css set `[hidden] { display: none !important; }` so we also need the `!important` here to be able to override the default hidden behavior on the sphinx rendered scikit-learn.org. See: https://github.com/scikit-learn/scikit-learn/issues/21755 */display: inline-block !important;position: relative;}#sk-container-id-3 div.sk-text-repr-fallback {display: none;}</style><div id=\"sk-container-id-3\" class=\"sk-top-container\"><div class=\"sk-text-repr-fallback\"><pre>LogisticRegression(random_state=0)</pre><b>In a Jupyter environment, please rerun this cell to show the HTML representation or trust the notebook. <br />On GitHub, the HTML representation is unable to render, please try loading this page with nbviewer.org.</b></div><div class=\"sk-container\" hidden><div class=\"sk-item\"><div class=\"sk-estimator sk-toggleable\"><input class=\"sk-toggleable__control sk-hidden--visually\" id=\"sk-estimator-id-3\" type=\"checkbox\" checked><label for=\"sk-estimator-id-3\" class=\"sk-toggleable__label sk-toggleable__label-arrow\">LogisticRegression</label><div class=\"sk-toggleable__content\"><pre>LogisticRegression(random_state=0)</pre></div></div></div></div></div>"
            ]
          },
          "metadata": {},
          "execution_count": 23
        }
      ]
    },
    {
      "cell_type": "markdown",
      "source": [
        "## Predicting a new result based on given input"
      ],
      "metadata": {
        "id": "SJMPatO53Ld4"
      }
    },
    {
      "cell_type": "code",
      "source": [
        "predicted_value = classifier.predict(sc.transform([[30,87000]]))\n",
        "print(predicted_value)"
      ],
      "metadata": {
        "colab": {
          "base_uri": "https://localhost:8080/"
        },
        "id": "9RZQFfwr0YnG",
        "outputId": "d2ab23f0-037c-4b7b-c64e-389744e0264f"
      },
      "execution_count": 24,
      "outputs": [
        {
          "output_type": "stream",
          "name": "stdout",
          "text": [
            "[0]\n"
          ]
        }
      ]
    },
    {
      "cell_type": "markdown",
      "source": [
        "## Predicting the Test set results\n",
        "\n",
        "This will help us compare the Predicted decision with the Real decision"
      ],
      "metadata": {
        "id": "8qV4uEaf_XUi"
      }
    },
    {
      "cell_type": "code",
      "source": [
        "y_pred = classifier.predict(X_test)\n",
        "print(np.concatenate((y_pred.reshape(len(y_pred),1), y_test.reshape(len(y_test), 1)),1))"
      ],
      "metadata": {
        "colab": {
          "base_uri": "https://localhost:8080/"
        },
        "id": "yCm7VFN03pz8",
        "outputId": "4ae50798-6181-4351-8345-fade203619d0"
      },
      "execution_count": 25,
      "outputs": [
        {
          "output_type": "stream",
          "name": "stdout",
          "text": [
            "[[0 0]\n",
            " [0 0]\n",
            " [0 0]\n",
            " [0 0]\n",
            " [0 0]\n",
            " [0 0]\n",
            " [0 0]\n",
            " [1 1]\n",
            " [0 0]\n",
            " [0 0]\n",
            " [0 0]\n",
            " [0 0]\n",
            " [0 0]\n",
            " [0 0]\n",
            " [0 0]\n",
            " [0 0]\n",
            " [0 0]\n",
            " [0 0]\n",
            " [1 1]\n",
            " [0 0]\n",
            " [0 0]\n",
            " [1 1]\n",
            " [0 0]\n",
            " [1 1]\n",
            " [0 0]\n",
            " [1 1]\n",
            " [0 0]\n",
            " [0 0]\n",
            " [0 0]\n",
            " [0 0]\n",
            " [0 0]\n",
            " [0 1]\n",
            " [1 1]\n",
            " [0 0]\n",
            " [0 0]\n",
            " [0 0]\n",
            " [0 0]\n",
            " [0 0]\n",
            " [0 0]\n",
            " [1 1]\n",
            " [0 0]\n",
            " [0 0]\n",
            " [0 0]\n",
            " [0 0]\n",
            " [1 1]\n",
            " [0 0]\n",
            " [0 0]\n",
            " [1 1]\n",
            " [0 0]\n",
            " [1 1]\n",
            " [1 1]\n",
            " [0 0]\n",
            " [0 0]\n",
            " [0 0]\n",
            " [1 1]\n",
            " [0 1]\n",
            " [0 0]\n",
            " [0 0]\n",
            " [0 1]\n",
            " [0 0]\n",
            " [0 0]\n",
            " [1 1]\n",
            " [0 0]\n",
            " [0 1]\n",
            " [0 0]\n",
            " [1 1]\n",
            " [0 0]\n",
            " [0 0]\n",
            " [0 0]\n",
            " [0 0]\n",
            " [1 1]\n",
            " [0 0]\n",
            " [0 0]\n",
            " [0 1]\n",
            " [0 0]\n",
            " [0 0]\n",
            " [1 0]\n",
            " [0 0]\n",
            " [1 1]\n",
            " [1 1]]\n"
          ]
        }
      ]
    },
    {
      "cell_type": "markdown",
      "source": [
        "## Confusion Matrix\n",
        "\n",
        "A confusion matrix is a table used to evaluate the performance of a classification algorithm. It provides a summary of the prediction results on a classification problem by comparing the actual target values with those predicted by the model. The confusion matrix helps to understand the errors made by the classifier and the types of misclassifications.\n",
        "\n",
        "### Structure of the Confusion Matrix\n",
        "For a binary classification problem, the confusion matrix is a 2x2 table:\n",
        "\n",
        "| Actual \\ Predicted | Positive (1) | Negative (0) |\n",
        "|--------------------|--------------|--------------|\n",
        "| Positive (1)       | TP           | FN           |\n",
        "| Negative (0)       | FP           | TN           |\n",
        "\n",
        "- **True Positive (TP)**: The model correctly predicted the positive class.\n",
        "- **True Negative (TN)**: The model correctly predicted the negative class.\n",
        "- **False Positive (FP)**: The model incorrectly predicted the positive class (Type I error).\n",
        "- **False Negative (FN)**: The model incorrectly predicted the negative class (Type II error).\n",
        "\n",
        "### Key Metrics Derived from the Confusion Matrix\n",
        "Several important performance metrics can be calculated from the confusion matrix:\n",
        "\n",
        "1. **Accuracy**\n",
        "   - The proportion of correct predictions (both true positives and true negatives) among the total number of cases.\n",
        "   $\n",
        "   \\text{Accuracy} = \\frac{TP + TN}{TP + TN + FP + FN}\n",
        "   $\n",
        "\n",
        "2. **Precision (Positive Predictive Value)**\n",
        "   - The proportion of true positives among all positive predictions.\n",
        "   $\n",
        "   \\text{Precision} = \\frac{TP}{TP + FP}\n",
        "   $\n",
        "\n",
        "3. **Recall (Sensitivity or True Positive Rate)**\n",
        "   - The proportion of true positives among all actual positives.\n",
        "   $\n",
        "   \\text{Recall} = \\frac{TP}{TP + FN}\n",
        "   $\n",
        "\n",
        "4. **Specificity (True Negative Rate)**\n",
        "   - The proportion of true negatives among all actual negatives.\n",
        "   $\n",
        "   \\text{Specificity} = \\frac{TN}{TN + FP}\n",
        "   $\n",
        "\n",
        "5. **F1 Score**\n",
        "   - The harmonic mean of precision and recall, providing a balance between the two.\n",
        "  $\\text{F1 Score} = \\frac{2 \\cdot \\text{Precision} \\cdot \\text{Recall}}{\\text{Precision} + \\text{Recall}}$\n",
        "\n",
        "### Example\n",
        "Suppose we have a dataset where we want to classify emails as spam or not spam. After training a model and making predictions, we get the following results:\n",
        "\n",
        "- True Positives (TP): 50 (emails correctly classified as spam)\n",
        "- True Negatives (TN): 40 (emails correctly classified as not spam)\n",
        "- False Positives (FP): 10 (emails incorrectly classified as spam)\n",
        "- False Negatives (FN): 5 (emails incorrectly classified as not spam)\n",
        "\n",
        "The confusion matrix would look like this:\n",
        "\n",
        "| Actual \\ Predicted | Spam (1) | Not Spam (0) |\n",
        "|--------------------|----------|--------------|\n",
        "| Spam (1)           | 50       | 5            |\n",
        "| Not Spam (0)       | 10       | 40           |\n",
        "\n",
        "From this confusion matrix, we can calculate:\n",
        "\n",
        "- **Accuracy**:\n",
        "  $\n",
        "  \\text{Accuracy} = \\frac{50 + 40}{50 + 40 + 10 + 5} = \\frac{90}{105} \\approx 0.857 (85.7\\%)\n",
        "  $\n",
        "\n",
        "- **Precision**:\n",
        "  $\n",
        "  \\text{Precision} = \\frac{50}{50 + 10} = \\frac{50}{60} \\approx 0.833 (83.3\\%)\n",
        "  $\n",
        "\n",
        "- **Recall**:\n",
        " $\n",
        "  \\text{Recall} = \\frac{50}{50 + 5} = \\frac{50}{55} \\approx 0.909 (90.9\\%)\n",
        " $\n",
        "\n",
        "- **F1 Score**:\n",
        "  $\n",
        "  \\text{F1 Score} = \\frac{2 \\cdot 0.833 \\cdot 0.909}{0.833 + 0.909} \\approx 0.870 (87.0\\%)\n",
        "  $\n",
        "\n",
        "### Importance of the Confusion Matrix\n",
        "- **Insight into Model Performance**: Provides a detailed breakdown of correct and incorrect predictions.\n",
        "- **Identification of Error Types**: Helps identify whether the model is more prone to false positives or false negatives.\n",
        "- **Evaluation of Metrics Beyond Accuracy**: Metrics like precision, recall, and F1 score are crucial, especially for imbalanced datasets.\n",
        "\n",
        "The confusion matrix is an essential tool for understanding and evaluating the performance of classification models, especially when accuracy alone is not sufficient to provide a complete picture of the model's effectiveness."
      ],
      "metadata": {
        "id": "g5DOIFW9BeMm"
      }
    },
    {
      "cell_type": "code",
      "source": [
        "from sklearn.metrics import confusion_matrix, accuracy_score\n",
        "cm = confusion_matrix(y_test, y_pred)\n",
        "print(cm)\n",
        "accuracy_score(y_test, y_pred)"
      ],
      "metadata": {
        "colab": {
          "base_uri": "https://localhost:8080/"
        },
        "id": "b5xM6lKFA9dd",
        "outputId": "e9ea064d-13f2-4e6b-8285-237881440053"
      },
      "execution_count": 26,
      "outputs": [
        {
          "output_type": "stream",
          "name": "stdout",
          "text": [
            "[[57  1]\n",
            " [ 5 17]]\n"
          ]
        },
        {
          "output_type": "execute_result",
          "data": {
            "text/plain": [
              "0.925"
            ]
          },
          "metadata": {},
          "execution_count": 26
        }
      ]
    },
    {
      "cell_type": "code",
      "source": [
        "# Visualizing the Training Set Results\n",
        "\n",
        "from matplotlib.colors import ListedColormap\n",
        "X_set, y_set = sc.inverse_transform(X_train), y_train\n",
        "X1, X2 = np.meshgrid(np.arange(start = X_set[:, 0].min() - 10, stop = X_set[:, 0].max() + 10, step = 0.25),\n",
        "                     np.arange(start = X_set[:, 1].min() - 1000, stop = X_set[:, 1].max() + 1000, step = 0.25))\n",
        "plt.contourf(X1, X2, classifier.predict(sc.transform(np.array([X1.ravel(), X2.ravel()]).T)).reshape(X1.shape),\n",
        "             alpha = 0.75, cmap = ListedColormap(('blue', 'magenta')))\n",
        "plt.xlim(X1.min(), X1.max())\n",
        "plt.ylim(X2.min(), X2.max())\n",
        "for i, j in enumerate(np.unique(y_set)):\n",
        "    plt.scatter(X_set[y_set == j, 0], X_set[y_set == j, 1], c = ListedColormap(('blue', 'magenta'))(i), label = j)\n",
        "plt.title('Logistic Regression (Training set)')\n",
        "plt.xlabel('Age')\n",
        "plt.ylabel('Estimated Salary')\n",
        "plt.legend()\n",
        "#plt.show()"
      ],
      "metadata": {
        "colab": {
          "base_uri": "https://localhost:8080/",
          "height": 546
        },
        "id": "Mxg1bd9yZVCw",
        "outputId": "0f7052a4-d2d4-44f3-8bc5-b018e4c6e562"
      },
      "execution_count": 33,
      "outputs": [
        {
          "output_type": "stream",
          "name": "stderr",
          "text": [
            "<ipython-input-33-20a8e0913de6>:12: UserWarning: *c* argument looks like a single numeric RGB or RGBA sequence, which should be avoided as value-mapping will have precedence in case its length matches with *x* & *y*.  Please use the *color* keyword-argument or provide a 2D array with a single row if you intend to specify the same RGB or RGBA value for all points.\n",
            "  plt.scatter(X_set[y_set == j, 0], X_set[y_set == j, 1], c = ListedColormap(('blue', 'magenta'))(i), label = j)\n"
          ]
        },
        {
          "output_type": "execute_result",
          "data": {
            "text/plain": [
              "<matplotlib.legend.Legend at 0x799628ef7850>"
            ]
          },
          "metadata": {},
          "execution_count": 33
        },
        {
          "output_type": "display_data",
          "data": {
            "text/plain": [
              "<Figure size 640x480 with 1 Axes>"
            ],
            "image/png": "[encoded data removed]"
          },
          "metadata": {}
        }
      ]
    },
    {
      "cell_type": "code",
      "source": [
        "# Visualizing the Test Set Results\n",
        "\n",
        "from matplotlib.colors import ListedColormap\n",
        "X_set, y_set = sc.inverse_transform(X_test), y_test\n",
        "X1, X2 = np.meshgrid(np.arange(start = X_set[:, 0].min() - 10, stop = X_set[:, 0].max() + 10, step = 0.25),\n",
        "                     np.arange(start = X_set[:, 1].min() - 1000, stop = X_set[:, 1].max() + 1000, step = 0.25))\n",
        "plt.contourf(X1, X2, classifier.predict(sc.transform(np.array([X1.ravel(), X2.ravel()]).T)).reshape(X1.shape),\n",
        "             alpha = 0.75, cmap = ListedColormap(('blue', 'magenta')))\n",
        "plt.xlim(X1.min(), X1.max())\n",
        "plt.ylim(X2.min(), X2.max())\n",
        "for i, j in enumerate(np.unique(y_set)):\n",
        "    plt.scatter(X_set[y_set == j, 0], X_set[y_set == j, 1], c = ListedColormap(('blue', 'magenta'))(i), label = j)\n",
        "plt.title('Logistic Regression (Test set)')\n",
        "plt.xlabel('Age')\n",
        "plt.ylabel('Estimated Salary')\n",
        "plt.legend()"
      ],
      "metadata": {
        "colab": {
          "base_uri": "https://localhost:8080/",
          "height": 546
        },
        "id": "AQz_mr-hblAc",
        "outputId": "84ef301a-eb8c-4998-f9df-543c33e84ee4"
      },
      "execution_count": 34,
      "outputs": [
        {
          "output_type": "stream",
          "name": "stderr",
          "text": [
            "<ipython-input-34-f1330ba744c0>:12: UserWarning: *c* argument looks like a single numeric RGB or RGBA sequence, which should be avoided as value-mapping will have precedence in case its length matches with *x* & *y*.  Please use the *color* keyword-argument or provide a 2D array with a single row if you intend to specify the same RGB or RGBA value for all points.\n",
            "  plt.scatter(X_set[y_set == j, 0], X_set[y_set == j, 1], c = ListedColormap(('blue', 'magenta'))(i), label = j)\n"
          ]
        },
        {
          "output_type": "execute_result",
          "data": {
            "text/plain": [
              "<matplotlib.legend.Legend at 0x799628f8bfa0>"
            ]
          },
          "metadata": {},
          "execution_count": 34
        },
        {
          "output_type": "display_data",
          "data": {
            "text/plain": [
              "<Figure size 640x480 with 1 Axes>"
            ],
            "image/png": "[encoded data removed]"
          },
          "metadata": {}
        }
      ]
    },
    {
      "cell_type": "markdown",
      "source": [
        "With a few incorrect prediction, the model predicts pretty well."
      ],
      "metadata": {
        "id": "AFhS7P29eJwW"
      }
    }
  ]
}